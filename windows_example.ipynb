{
 "cells": [
  {
   "cell_type": "code",
   "execution_count": 17,
   "id": "6a8b1d54-106c-4f89-842d-c1aa0b136a42",
   "metadata": {},
   "outputs": [
    {
     "name": "stdout",
     "output_type": "stream",
     "text": [
      "The autoreload extension is already loaded. To reload it, use:\n",
      "  %reload_ext autoreload\n",
      "The memory_profiler extension is already loaded. To reload it, use:\n",
      "  %reload_ext memory_profiler\n",
      "The line_profiler extension is already loaded. To reload it, use:\n",
      "  %reload_ext line_profiler\n"
     ]
    }
   ],
   "source": [
    "%load_ext autoreload\n",
    "%autoreload 2\n",
    "\n",
    "%load_ext memory_profiler\n",
    "%load_ext line_profiler"
   ]
  },
  {
   "cell_type": "code",
   "execution_count": 18,
   "id": "e42a2898-75c8-4e0a-af91-14a7d497e603",
   "metadata": {},
   "outputs": [],
   "source": [
    "import pandas as pd\n",
    "import numpy as np\n",
    "\n",
    "import plotly.graph_objects as go\n",
    "from plotly.subplots import make_subplots\n",
    "\n",
    "# from helper import groupby_consecutive\n",
    "\n",
    "import sys\n",
    "sys.path.append('..')\n",
    "from plotly_resampler import FigureResampler, EveryNthPoint, EfficientLTTB"
   ]
  },
  {
   "cell_type": "markdown",
   "id": "54079ce0",
   "metadata": {},
   "source": [
    "# Basic sine example"
   ]
  },
  {
   "cell_type": "code",
   "execution_count": 19,
   "id": "ef449619",
   "metadata": {},
   "outputs": [
    {
     "data": {
      "text/html": [
       "\n",
       "        <iframe\n",
       "            width=\"100%\"\n",
       "            height=\"418\"\n",
       "            src=\"http://127.0.0.1:8050/\"\n",
       "            frameborder=\"0\"\n",
       "            allowfullscreen\n",
       "            \n",
       "        ></iframe>\n",
       "        "
      ],
      "text/plain": [
       "<IPython.lib.display.IFrame at 0x28450df25b0>"
      ]
     },
     "metadata": {},
     "output_type": "display_data"
    }
   ],
   "source": [
    "n = 5_000_000\n",
    "x = np.arange(n)\n",
    "noisy_sine = (3 + np.sin(x / 2000) + np.random.randn(n) / 10) * x / 1000\n",
    "\n",
    "# 1. Wrap the figure with the FigureResampler class\n",
    "fig = FigureResampler(go.Figure())\n",
    "# Add the trace using the `hf_x` & `hf_y` for faster rendering \n",
    "# (this does not impact the resampling speed once rendered)\n",
    "fig.add_trace(go.Scattergl(), hf_x=x, hf_y=noisy_sine)\n",
    "# fig.add_trace(go.Scattergl(x=x, y=noisy_sine))\n",
    "\n",
    "# Optional: update the layout\n",
    "fig.update_layout(height=400, template='plotly_dark')\n",
    "\n",
    "# 2. Call show_dash\n",
    "fig.show_dash(mode='inline')"
   ]
  },
  {
   "cell_type": "markdown",
   "id": "62535963",
   "metadata": {
    "tags": []
   },
   "source": [
    "# The example `.gif` from the docs/README"
   ]
  },
  {
   "cell_type": "markdown",
   "id": "d2f83be8",
   "metadata": {},
   "source": [
    "Note how the example figure withholds\n",
    "* time-indexed data\n",
    "* numeric-indexed data\n"
   ]
  },
  {
   "cell_type": "code",
   "execution_count": 20,
   "id": "7384c081-a733-41e5-a80c-99b7b31d0520",
   "metadata": {},
   "outputs": [],
   "source": [
    "df_gusb = pd.read_parquet(\"data/df_gusb.parquet\")\n",
    "df_data_pc = pd.read_parquet(\"data/df_pc_test.parquet\")\n",
    "\n",
    "# Create a noisy sine\n",
    "n = 110_000_00#0\n",
    "x = np.arange(n)\n",
    "noisy_sine = (3 + np.sin(x / 200_000) + np.random.randn(n) / 10) * x / 100_000\n"
   ]
  },
  {
   "cell_type": "code",
   "execution_count": 21,
   "id": "c1f1d9a2-63a1-484e-a346-ae6b04c997b6",
   "metadata": {
    "tags": []
   },
   "outputs": [
    {
     "name": "stdout",
     "output_type": "stream",
     "text": [
      "Dash app running on http://127.0.0.1:9029/\n"
     ]
    }
   ],
   "source": [
    "fig = FigureResampler(\n",
    "    make_subplots(\n",
    "        rows=2,\n",
    "        cols=2,\n",
    "        specs=[[{}, {}], [{\"colspan\": 2}, None]],\n",
    "        subplot_titles=(\"GUSB swimming pool\", \"Generated sine\", \"Power consumption\"),\n",
    "        vertical_spacing=0.12,\n",
    "    ),\n",
    "    default_n_shown_samples=1000,\n",
    "    verbose=False,\n",
    ")\n",
    "\n",
    "\n",
    "# ------------ swimming pool data -----------\n",
    "df_gusb_pool = df_gusb['zwembad'].last(\"4D\").dropna()\n",
    "fig.add_trace(\n",
    "    go.Scattergl(\n",
    "        x=df_gusb_pool.index,\n",
    "        y=df_gusb_pool.astype(\"uint16\"),\n",
    "        mode=\"markers\",\n",
    "        marker_size=5,\n",
    "        name=\"occupancy\",\n",
    "        # showlegend=False,\n",
    "    ),\n",
    "    hf_hovertext=\"mean last hour: \"\n",
    "    + df_gusb_pool.rolling(\"1h\").mean().astype(int).astype(str),\n",
    "    downsampler=EveryNthPoint(interleave_gaps=False),\n",
    "    row=1,\n",
    "    col=1,\n",
    ")\n",
    "fig.update_yaxes(title_text=\"Occupancy\", row=1, col=1)\n",
    "\n",
    "\n",
    "# ----------------- generated sine -----------\n",
    "fig.add_trace(\n",
    "    go.Scattergl(name=\"sin\", line_color=\"#26b2e0\"),\n",
    "    hf_x=x,\n",
    "    hf_y=noisy_sine,\n",
    "    row=1,\n",
    "    col=2,\n",
    ")\n",
    "\n",
    "# ------------- Power consumption data -------------\n",
    "df_data_pc = df_data_pc.last(\"190D\")\n",
    "for i, c in enumerate(df_data_pc.columns):\n",
    "    fig.add_trace(\n",
    "        go.Scattergl(\n",
    "            name=f\"R-{i+1}\", #line_width=1,\n",
    "        ),\n",
    "        hf_x=df_data_pc.index,\n",
    "        hf_y=df_data_pc[c],\n",
    "        row=2,\n",
    "        col=1,\n",
    "        # downsampler=LTTB(interleave_gaps=True),\n",
    "    )\n",
    "\n",
    "fig.update_layout(height=650)\n",
    "fig.update_yaxes(title_text=\"Watt/hour\", row=2, col=1)\n",
    "fig.update_layout(\n",
    "    title=\"<b>Plotly-Resampler demo</b>\",\n",
    "    title_x=0.5,\n",
    "    legend_traceorder=\"normal\",\n",
    "    legend=dict(orientation=\"h\", y=1.11, xanchor=\"left\", x=0),\n",
    ")\n",
    "\n",
    "fig.show_dash(mode=\"external\", debug=True, port=9029)"
   ]
  },
  {
   "cell_type": "markdown",
   "id": "28b02cff",
   "metadata": {},
   "source": [
    "# Converting a `go.Figure`, with its traces, into a `FigureResampler`"
   ]
  },
  {
   "cell_type": "markdown",
   "id": "20b9cef4",
   "metadata": {},
   "source": [
    "This example first creates the `.gif` figure (with less data, otherwise the graph consruction time would be too long) and then uses the  `convert_existing_traces` argument of the FigureResampler constructor to convert this into a FigureResampler figure."
   ]
  },
  {
   "cell_type": "code",
   "execution_count": 22,
   "id": "0941f11a",
   "metadata": {},
   "outputs": [],
   "source": [
    "df_gusb = pd.read_parquet(f\"data/df_gusb.parquet\")\n",
    "df_data_pc = pd.read_parquet(f\"data/df_pc_test.parquet\")\n",
    "\n",
    "n = 110_000\n",
    "x = np.arange(n)\n",
    "noisy_sine = (3 + np.sin(x / 2_000) + np.random.randn(n) / 10) * x / 2_000\n",
    "\n",
    "# construct a normal figure object instead of a figureResample object\n",
    "fig = make_subplots(\n",
    "    rows=2,\n",
    "    cols=2,\n",
    "    specs=[[{}, {}], [{\"colspan\": 2}, None]],\n",
    "    subplot_titles=(\"GUSB swimming pool\", \"Generated sine\", \"Power consumption\"),\n",
    "    vertical_spacing=0.12,\n",
    ")\n",
    "\n",
    "\n",
    "# ------------ swimming pool data -----------\n",
    "df_gusb_pool = df_gusb[\"zwembad\"].last(\"4D\").dropna()\n",
    "fig.add_trace(\n",
    "    go.Scattergl(\n",
    "        x=df_gusb_pool.index,\n",
    "        y=df_gusb_pool,  # .astype(\"uint16\"),\n",
    "        mode=\"markers\",\n",
    "        marker_size=5,\n",
    "        name=\"occupancy\",\n",
    "        showlegend=True,\n",
    "        hovertext=\"mean last hour: \"\n",
    "        + df_gusb_pool.rolling(\"1h\").mean().astype(int).astype(str),\n",
    "    ),\n",
    "    # downsampler=EveryNthPoint(interleave_gaps=False),\n",
    "    row=1,\n",
    "    col=1,\n",
    ")\n",
    "fig.update_yaxes(title_text=\"Occupancy\", row=1, col=1)\n",
    "\n",
    "\n",
    "# ----------------- generated sine -----------\n",
    "fig.add_trace(\n",
    "    go.Scattergl(name=\"sin\", line_color=\"#26b2e0\", x=x, y=noisy_sine),\n",
    "    row=1,\n",
    "    col=2,\n",
    ")\n",
    "\n",
    "# ------------- Power consumption data -------------\n",
    "df_data_pc = df_data_pc.last(\"190D\")\n",
    "for i, c in enumerate(df_data_pc.columns):\n",
    "    fig.add_trace(\n",
    "        go.Scattergl(\n",
    "            name=f\"room {i+1}\",\n",
    "            x=df_data_pc.index,\n",
    "            y=df_data_pc[c],\n",
    "        ),\n",
    "        row=2,\n",
    "        col=1,\n",
    "    )\n",
    "\n",
    "fig.update_layout(height=600)\n",
    "fig.update_yaxes(title_text=\"Watt/hour\", row=2, col=1)\n",
    "fig.update_layout(\n",
    "    title=\"<b>Plotly-Resampler demo - fig base</b>\",\n",
    "    title_x=0.5,\n",
    "    legend_traceorder=\"normal\",\n",
    "    legend=dict(orientation=\"h\", y=1.11, xanchor=\"left\", x=0),\n",
    ");"
   ]
  },
  {
   "cell_type": "markdown",
   "id": "b863e42c",
   "metadata": {},
   "source": [
    "Note how the `data` property shape is the raw data size"
   ]
  },
  {
   "cell_type": "code",
   "execution_count": 23,
   "id": "ad0a05d3",
   "metadata": {},
   "outputs": [
    {
     "data": {
      "text/plain": [
       "(110000,)"
      ]
     },
     "execution_count": 23,
     "metadata": {},
     "output_type": "execute_result"
    }
   ],
   "source": [
    "fig.data[1]['x'].shape"
   ]
  },
  {
   "cell_type": "code",
   "execution_count": 24,
   "id": "c38f7f52",
   "metadata": {},
   "outputs": [
    {
     "name": "stdout",
     "output_type": "stream",
     "text": [
      "Dash app running on http://127.0.0.1:8050/\n"
     ]
    }
   ],
   "source": [
    "# Convert the figure into a figurResampler figure by decorating it\n",
    "fr_fig = FigureResampler(fig, default_n_shown_samples=500, convert_existing_traces=True)\n",
    "fr_fig.show_dash(mode=\"external\")"
   ]
  },
  {
   "cell_type": "code",
   "execution_count": 25,
   "id": "841a217b",
   "metadata": {},
   "outputs": [
    {
     "name": "stdout",
     "output_type": "stream",
     "text": [
      "aggregated data     (500,)\n",
      "raw data (hf_data)  (110000,)\n"
     ]
    }
   ],
   "source": [
    "print('aggregated data    ', fr_fig.data[1]['x'].shape)\n",
    "print('raw data (hf_data) ', fr_fig.hf_data[1]['x'].shape)"
   ]
  },
  {
   "cell_type": "code",
   "execution_count": 26,
   "id": "dbfa7ef8",
   "metadata": {},
   "outputs": [
    {
     "data": {
      "text/plain": [
       "(110000,)"
      ]
     },
     "execution_count": 26,
     "metadata": {},
     "output_type": "execute_result"
    }
   ],
   "source": [
    "# The data-shape of the original figure stil remains the same\n",
    "fig.data[1]['x'].shape"
   ]
  },
  {
   "cell_type": "markdown",
   "id": "f46d0691",
   "metadata": {},
   "source": [
    "**Note**:\n",
    "* the data size of `fr_fig` is reduced to `default_n_shown_samples` (_500_) but the original `fig` data is still equal to `110_000`.\n",
    "* the raw data can be accessed and altered using the `hf_data` of the FigureResampler object ⬇️\n"
   ]
  },
  {
   "cell_type": "code",
   "execution_count": 27,
   "id": "d7c10446",
   "metadata": {},
   "outputs": [],
   "source": [
    "fr_fig.hf_data[1]['y'] = - noisy_sine ** 2"
   ]
  },
  {
   "cell_type": "code",
   "execution_count": 28,
   "id": "15eb48c2",
   "metadata": {},
   "outputs": [
    {
     "data": {
      "text/html": [
       "\n",
       "        <iframe\n",
       "            width=\"100%\"\n",
       "            height=\"618\"\n",
       "            src=\"http://127.0.0.1:8050/\"\n",
       "            frameborder=\"0\"\n",
       "            allowfullscreen\n",
       "            \n",
       "        ></iframe>\n",
       "        "
      ],
      "text/plain": [
       "<IPython.lib.display.IFrame at 0x2845b6770a0>"
      ]
     },
     "metadata": {},
     "output_type": "display_data"
    }
   ],
   "source": [
    "fr_fig.show_dash(mode='inline')"
   ]
  },
  {
   "cell_type": "markdown",
   "id": "dd77941a",
   "metadata": {
    "tags": []
   },
   "source": [
    "# Skin conductance example"
   ]
  },
  {
   "cell_type": "markdown",
   "id": "2ea4e74a",
   "metadata": {},
   "source": [
    "This example is especially interesting as it uses a _background-color_ to indicate a signal quality.\n"
   ]
  },
  {
   "cell_type": "code",
   "execution_count": 29,
   "id": "3cc6fef1",
   "metadata": {},
   "outputs": [],
   "source": [
    "df_gsr = pd.read_parquet('data/processed_gsr.parquet')"
   ]
  },
  {
   "cell_type": "code",
   "execution_count": 30,
   "id": "71758f03",
   "metadata": {},
   "outputs": [
    {
     "name": "stderr",
     "output_type": "stream",
     "text": [
      "c:\\ProgramData\\Anaconda3\\lib\\site-packages\\plotly_resampler\\aggregation\\aggregation_interface.py:97: FutureWarning:\n",
      "\n",
      "The default dtype for empty Series will be 'object' instead of 'float64' in a future version. Specify a dtype explicitly to silence this warning.\n",
      "\n"
     ]
    },
    {
     "ename": "NameError",
     "evalue": "name 'groupby_consecutive' is not defined",
     "output_type": "error",
     "traceback": [
      "\u001b[1;31m---------------------------------------------------------------------------\u001b[0m",
      "\u001b[1;31mNameError\u001b[0m                                 Traceback (most recent call last)",
      "\u001b[1;32mc:\\Users\\Demz\\Documents\\WebViewPlotlyWinUI3\\type.ipynb Cell 23\u001b[0m in \u001b[0;36m<cell line: 40>\u001b[1;34m()\u001b[0m\n\u001b[0;32m     <a href='vscode-notebook-cell:/c%3A/Users/Demz/Documents/WebViewPlotlyWinUI3/type.ipynb#ch0000022?line=21'>22</a>\u001b[0m fig\u001b[39m.\u001b[39madd_trace(\n\u001b[0;32m     <a href='vscode-notebook-cell:/c%3A/Users/Demz/Documents/WebViewPlotlyWinUI3/type.ipynb#ch0000022?line=22'>23</a>\u001b[0m     trace\u001b[39m=\u001b[39mgo\u001b[39m.\u001b[39mScattergl(\n\u001b[0;32m     <a href='vscode-notebook-cell:/c%3A/Users/Demz/Documents/WebViewPlotlyWinUI3/type.ipynb#ch0000022?line=23'>24</a>\u001b[0m         x\u001b[39m=\u001b[39mdf_peaks\u001b[39m.\u001b[39mindex,\n\u001b[1;32m   (...)\u001b[0m\n\u001b[0;32m     <a href='vscode-notebook-cell:/c%3A/Users/Demz/Documents/WebViewPlotlyWinUI3/type.ipynb#ch0000022?line=34'>35</a>\u001b[0m     limit_to_view\u001b[39m=\u001b[39m\u001b[39mTrue\u001b[39;00m,\n\u001b[0;32m     <a href='vscode-notebook-cell:/c%3A/Users/Demz/Documents/WebViewPlotlyWinUI3/type.ipynb#ch0000022?line=35'>36</a>\u001b[0m )\n\u001b[0;32m     <a href='vscode-notebook-cell:/c%3A/Users/Demz/Documents/WebViewPlotlyWinUI3/type.ipynb#ch0000022?line=38'>39</a>\u001b[0m \u001b[39m# Display the Sking conductance Signal Quality As background \u001b[39;00m\n\u001b[1;32m---> <a href='vscode-notebook-cell:/c%3A/Users/Demz/Documents/WebViewPlotlyWinUI3/type.ipynb#ch0000022?line=39'>40</a>\u001b[0m df_grouped \u001b[39m=\u001b[39m groupby_consecutive(df_gsr[\u001b[39m\"\u001b[39m\u001b[39mEDA_SQI\u001b[39m\u001b[39m\"\u001b[39m])\n\u001b[0;32m     <a href='vscode-notebook-cell:/c%3A/Users/Demz/Documents/WebViewPlotlyWinUI3/type.ipynb#ch0000022?line=40'>41</a>\u001b[0m df_grouped[\u001b[39m\"\u001b[39m\u001b[39mEDA_SQI\u001b[39m\u001b[39m\"\u001b[39m] \u001b[39m=\u001b[39m df_grouped[\u001b[39m\"\u001b[39m\u001b[39mEDA_SQI\u001b[39m\u001b[39m\"\u001b[39m]\u001b[39m.\u001b[39mmap(\u001b[39mbool\u001b[39m)\n\u001b[0;32m     <a href='vscode-notebook-cell:/c%3A/Users/Demz/Documents/WebViewPlotlyWinUI3/type.ipynb#ch0000022?line=41'>42</a>\u001b[0m df_grouped[\u001b[39m\"\u001b[39m\u001b[39mgood_sqi\u001b[39m\u001b[39m\"\u001b[39m] \u001b[39m=\u001b[39m df_grouped[\u001b[39m\"\u001b[39m\u001b[39mEDA_SQI\u001b[39m\u001b[39m\"\u001b[39m]\u001b[39m.\u001b[39mmap(\u001b[39mint\u001b[39m)\n",
      "\u001b[1;31mNameError\u001b[0m: name 'groupby_consecutive' is not defined"
     ]
    }
   ],
   "source": [
    "fig = FigureResampler(\n",
    "    make_subplots(\n",
    "        rows=2,\n",
    "        cols=1,\n",
    "        specs=[[{\"secondary_y\": True}], [{}]],\n",
    "        shared_xaxes=True,\n",
    "    ),\n",
    "    default_n_shown_samples=1_000,\n",
    "    verbose=False,\n",
    ")\n",
    "fig.update_layout(height=600, title='skin conductance example', title_x=0.5)\n",
    "\n",
    "\n",
    "# -------------------------------- ROW 1 --------------------------------\n",
    "# Add the skin conductance signals\n",
    "for c in [\"EDA\", \"EDA_lf_cleaned\", \"EDA_lf_cleaned_tonic\"]:\n",
    "    fig.add_trace(go.Scattergl(name=c), hf_x=df_gsr.index, hf_y=df_gsr[c], row=1, col=1)\n",
    "\n",
    "\n",
    "# Show the Skin Conductance Response Peaks (SCR)\n",
    "df_peaks = df_gsr[df_gsr[\"SCR_Peaks_neurokit_reduced_acc\"] == 1]\n",
    "fig.add_trace(\n",
    "    trace=go.Scattergl(\n",
    "        x=df_peaks.index,\n",
    "        y=df_peaks[\"EDA_lf_cleaned\"],\n",
    "        visible=\"legendonly\",\n",
    "        mode=\"markers\",\n",
    "        marker_symbol=\"cross\",\n",
    "        marker_size=15,\n",
    "        marker_color=\"red\",\n",
    "        name=\"SCR peaks\",\n",
    "    ),\n",
    "    # Set limit_to_view to true so that the peaks dissapear when out-of view-range \n",
    "    # and thus not disturb the autoscale!!!\n",
    "    limit_to_view=True,\n",
    ")\n",
    "\n",
    "\n",
    "# Display the Sking conductance Signal Quality As background \n",
    "df_grouped = groupby_consecutive(df_gsr[\"EDA_SQI\"])\n",
    "df_grouped[\"EDA_SQI\"] = df_grouped[\"EDA_SQI\"].map(bool)\n",
    "df_grouped[\"good_sqi\"] = df_grouped[\"EDA_SQI\"].map(int)\n",
    "df_grouped[\"bad_sqi\"] = (~df_grouped[\"EDA_SQI\"]).map(int)\n",
    "for sqi_col, col_or in [\n",
    "    (\"good_sqi\", \"#2ca02c\"),\n",
    "    (\"bad_sqi\", \"#d62728\"),\n",
    "]:\n",
    "    fig.add_trace(\n",
    "        go.Scattergl(\n",
    "            x=df_grouped[\"start\"],\n",
    "            y=df_grouped[sqi_col],\n",
    "            mode=\"lines\",\n",
    "            line_width=0,\n",
    "            fill=\"tozeroy\",\n",
    "            fillcolor=col_or,\n",
    "            opacity=0.1 if \"good\" in sqi_col else 0.2,\n",
    "            line_shape=\"hv\",\n",
    "            name=sqi_col,\n",
    "            showlegend=False,\n",
    "        ),\n",
    "        # The most important thing here is that interleave gaps is set to True\n",
    "        # Additionally, the limit-to-view also ensures that the autoscale is not \n",
    "        # disturbed.\n",
    "        downsampler=EveryNthPoint(interleave_gaps=False),\n",
    "        limit_to_view=True,\n",
    "        secondary_y=True,\n",
    "    )\n",
    "\n",
    "\n",
    "# -------------------------------- ROW 2 --------------------------------\n",
    "# show the phasic EDA component\n",
    "fig.add_trace(\n",
    "    go.Scattergl(name=\"EDA_Phasic\", visible=\"legendonly\"),\n",
    "    hf_x=df_gsr.index,\n",
    "    hf_y=df_gsr[\"EDA_Phasic\"],\n",
    "    row=2,\n",
    "    col=1,\n",
    ")\n",
    "\n",
    "fig.show_dash(mode=\"external\", port=9022)"
   ]
  },
  {
   "cell_type": "markdown",
   "id": "9280c129",
   "metadata": {},
   "source": [
    "* The most important thing regarding this "
   ]
  },
  {
   "cell_type": "markdown",
   "id": "2cfd9b5f-58c8-4711-9dc0-aa326a81fef9",
   "metadata": {
    "tags": []
   },
   "source": [
    "# Categorical series - box & histogram"
   ]
  },
  {
   "cell_type": "markdown",
   "id": "d75f128f",
   "metadata": {},
   "source": [
    "This example highlights how `plotly-resampler` supports combining high-frequency trace-subplots \n",
    "with non-scatterlike traces such a a histogram & a boxplot."
   ]
  },
  {
   "cell_type": "code",
   "execution_count": null,
   "id": "fe548e0a-8f20-4b01-beec-ded7de144995",
   "metadata": {},
   "outputs": [],
   "source": [
    "# Create a categorical series, with mostly a's, but a few sparse b's and c's\n",
    "cats_list = np.array(list(\"aaaaaaaaaa\" * 1000))\n",
    "cats_list[np.random.choice(len(cats_list), 100, replace=False)] = \"b\"\n",
    "cats_list[np.random.choice(len(cats_list), 50, replace=False)] = \"c\"\n",
    "cat_series = pd.Series(cats_list, dtype=\"category\",)\n",
    "\n",
    "_nb_samples = 30_000\n",
    "x = np.arange(_nb_samples).astype(np.uint32)\n",
    "y = np.sin(x / 300).astype(np.float32) + np.random.randn(_nb_samples) / 5\n",
    "float_series = pd.Series(index=x, data=y)"
   ]
  },
  {
   "cell_type": "code",
   "execution_count": null,
   "id": "38b1f6b7-896e-48a3-a4b2-91a2bfa2f58b",
   "metadata": {},
   "outputs": [],
   "source": [
    "base_fig = make_subplots(\n",
    "    rows=2,\n",
    "    cols=2,\n",
    "    specs=[[{}, {}], [{\"colspan\": 2}, None]],\n",
    ")\n",
    "fig = FigureResampler(base_fig, default_n_shown_samples=1000, verbose=False)\n",
    "\n",
    "fig.add_trace(\n",
    "    go.Scattergl(name=\"cat_series\"),\n",
    "    hf_x=cat_series.index,\n",
    "    hf_y=cat_series,\n",
    "    row=1,\n",
    "    col=1,\n",
    "    hf_hovertext=\"text\",\n",
    ")\n",
    "\n",
    "fig.add_trace(go.Box(x=float_series.values, name=\"float_series\"), row=1, col=2)\n",
    "fig.add_trace(\n",
    "    go.Box(x=float_series.values ** 2, name=\"float_series**2\"), row=1, col=2\n",
    ")\n",
    "\n",
    "# add a not hf-trace\n",
    "fig.add_trace(\n",
    "    go.Histogram(\n",
    "        x=float_series,\n",
    "        name=\"float_series\",\n",
    "    ),\n",
    "    row=2,\n",
    "    col=1,\n",
    ")\n",
    "fig.show_dash(mode=\"external\", port=9023)"
   ]
  }
 ],
 "metadata": {
  "kernelspec": {
   "display_name": "Python 3.9.12 ('base')",
   "language": "python",
   "name": "python3"
  },
  "language_info": {
   "codemirror_mode": {
    "name": "ipython",
    "version": 3
   },
   "file_extension": ".py",
   "mimetype": "text/x-python",
   "name": "python",
   "nbconvert_exporter": "python",
   "pygments_lexer": "ipython3",
   "version": "3.9.12"
  },
  "toc-autonumbering": true,
  "vscode": {
   "interpreter": {
    "hash": "ad2bdc8ecc057115af97d19610ffacc2b4e99fae6737bb82f5d7fb13d2f2c186"
   }
  }
 },
 "nbformat": 4,
 "nbformat_minor": 5
}
